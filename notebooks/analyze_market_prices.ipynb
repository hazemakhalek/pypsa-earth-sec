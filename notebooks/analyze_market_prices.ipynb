{
 "cells": [
  {
   "cell_type": "markdown",
   "metadata": {},
   "source": [
    "# Analysis of local energy market prices"
   ]
  },
  {
   "cell_type": "code",
   "execution_count": 1,
   "metadata": {},
   "outputs": [],
   "source": [
    "import pes_analysis_helpers as ana\n",
    "import pandas as pd\n",
    "import pypsa\n",
    "import matplotlib.pyplot as plt"
   ]
  },
  {
   "cell_type": "markdown",
   "metadata": {},
   "source": [
    "Choose your root directory"
   ]
  },
  {
   "cell_type": "code",
   "execution_count": 2,
   "metadata": {},
   "outputs": [
    {
     "name": "stdout",
     "output_type": "stream",
     "text": [
      "This is the repository path:  /nfs/home/cas96273/Thesis_Code\n",
      "Had to go 2 folder(s) up.\n"
     ]
    }
   ],
   "source": [
    "root_directory = 'Thesis_Code'\n",
    "ana.sets_path_to_root(root_directory)"
   ]
  },
  {
   "cell_type": "markdown",
   "metadata": {},
   "source": [
    "Choose one or multiple runs to be analyzed. In the latter case, you should declare respective variables. In the following, only one run is analyzed."
   ]
  },
  {
   "cell_type": "code",
   "execution_count": 3,
   "metadata": {},
   "outputs": [],
   "source": [
    "run_name = 'UA_2030_daily_09082023'"
   ]
  },
  {
   "cell_type": "markdown",
   "metadata": {},
   "source": [
    "Read summary dataframe. If it does not exist yet it will be created and stored in ./pypsa-earth-sec/outputs"
   ]
  },
  {
   "cell_type": "code",
   "execution_count": 4,
   "metadata": {},
   "outputs": [],
   "source": [
    "summary = ana.get_summary_df(run_name, update_table=False).set_index(['year', 'scenario', 'export_quantity'])"
   ]
  },
  {
   "cell_type": "code",
   "execution_count": 6,
   "metadata": {},
   "outputs": [
    {
     "data": {
      "text/html": [
       "<div>\n",
       "<style scoped>\n",
       "    .dataframe tbody tr th:only-of-type {\n",
       "        vertical-align: middle;\n",
       "    }\n",
       "\n",
       "    .dataframe tbody tr th {\n",
       "        vertical-align: top;\n",
       "    }\n",
       "\n",
       "    .dataframe thead th {\n",
       "        text-align: right;\n",
       "    }\n",
       "</style>\n",
       "<table border=\"1\" class=\"dataframe\">\n",
       "  <thead>\n",
       "    <tr style=\"text-align: right;\">\n",
       "      <th></th>\n",
       "      <th></th>\n",
       "      <th></th>\n",
       "      <th>elec_wap</th>\n",
       "      <th>h2_wap</th>\n",
       "      <th>demand</th>\n",
       "      <th>ac_demand</th>\n",
       "      <th>h2_demand</th>\n",
       "      <th>costs-demand-ratio</th>\n",
       "    </tr>\n",
       "    <tr>\n",
       "      <th>year</th>\n",
       "      <th>scenario</th>\n",
       "      <th>export_quantity</th>\n",
       "      <th></th>\n",
       "      <th></th>\n",
       "      <th></th>\n",
       "      <th></th>\n",
       "      <th></th>\n",
       "      <th></th>\n",
       "    </tr>\n",
       "  </thead>\n",
       "  <tbody>\n",
       "    <tr>\n",
       "      <th rowspan=\"15\" valign=\"top\">2030</th>\n",
       "      <th rowspan=\"5\" valign=\"top\">BS</th>\n",
       "      <th>0</th>\n",
       "      <td>23.772112</td>\n",
       "      <td>1.809210</td>\n",
       "      <td>443.907824</td>\n",
       "      <td>23.38</td>\n",
       "      <td>9.160489</td>\n",
       "      <td>25.076627</td>\n",
       "    </tr>\n",
       "    <tr>\n",
       "      <th>1</th>\n",
       "      <td>23.750448</td>\n",
       "      <td>5.911561</td>\n",
       "      <td>444.907824</td>\n",
       "      <td>23.38</td>\n",
       "      <td>10.160489</td>\n",
       "      <td>25.400428</td>\n",
       "    </tr>\n",
       "    <tr>\n",
       "      <th>10</th>\n",
       "      <td>23.020276</td>\n",
       "      <td>6.426968</td>\n",
       "      <td>453.907824</td>\n",
       "      <td>23.38</td>\n",
       "      <td>19.160489</td>\n",
       "      <td>28.573536</td>\n",
       "    </tr>\n",
       "    <tr>\n",
       "      <th>50</th>\n",
       "      <td>21.843713</td>\n",
       "      <td>6.699407</td>\n",
       "      <td>493.907824</td>\n",
       "      <td>23.38</td>\n",
       "      <td>59.160489</td>\n",
       "      <td>41.714421</td>\n",
       "    </tr>\n",
       "    <tr>\n",
       "      <th>86</th>\n",
       "      <td>21.220357</td>\n",
       "      <td>6.950833</td>\n",
       "      <td>529.907824</td>\n",
       "      <td>23.38</td>\n",
       "      <td>95.160489</td>\n",
       "      <td>52.648438</td>\n",
       "    </tr>\n",
       "    <tr>\n",
       "      <th rowspan=\"5\" valign=\"top\">AP</th>\n",
       "      <th>0</th>\n",
       "      <td>23.986942</td>\n",
       "      <td>1.557094</td>\n",
       "      <td>460.247599</td>\n",
       "      <td>23.38</td>\n",
       "      <td>9.158764</td>\n",
       "      <td>25.347741</td>\n",
       "    </tr>\n",
       "    <tr>\n",
       "      <th>1</th>\n",
       "      <td>23.972868</td>\n",
       "      <td>3.448294</td>\n",
       "      <td>461.247599</td>\n",
       "      <td>23.38</td>\n",
       "      <td>10.158764</td>\n",
       "      <td>25.507058</td>\n",
       "    </tr>\n",
       "    <tr>\n",
       "      <th>10</th>\n",
       "      <td>23.326652</td>\n",
       "      <td>3.698723</td>\n",
       "      <td>470.247599</td>\n",
       "      <td>23.38</td>\n",
       "      <td>19.158764</td>\n",
       "      <td>27.058240</td>\n",
       "    </tr>\n",
       "    <tr>\n",
       "      <th>50</th>\n",
       "      <td>21.877245</td>\n",
       "      <td>3.938920</td>\n",
       "      <td>510.247599</td>\n",
       "      <td>23.38</td>\n",
       "      <td>59.158764</td>\n",
       "      <td>33.688404</td>\n",
       "    </tr>\n",
       "    <tr>\n",
       "      <th>86</th>\n",
       "      <td>21.356334</td>\n",
       "      <td>4.110959</td>\n",
       "      <td>546.247599</td>\n",
       "      <td>23.38</td>\n",
       "      <td>95.158764</td>\n",
       "      <td>39.396710</td>\n",
       "    </tr>\n",
       "    <tr>\n",
       "      <th rowspan=\"5\" valign=\"top\">NZ</th>\n",
       "      <th>0</th>\n",
       "      <td>24.112679</td>\n",
       "      <td>1.502287</td>\n",
       "      <td>425.768177</td>\n",
       "      <td>23.34</td>\n",
       "      <td>17.872111</td>\n",
       "      <td>24.748642</td>\n",
       "    </tr>\n",
       "    <tr>\n",
       "      <th>1</th>\n",
       "      <td>24.112679</td>\n",
       "      <td>3.177911</td>\n",
       "      <td>426.768177</td>\n",
       "      <td>23.34</td>\n",
       "      <td>18.872111</td>\n",
       "      <td>24.904990</td>\n",
       "    </tr>\n",
       "    <tr>\n",
       "      <th>10</th>\n",
       "      <td>24.025842</td>\n",
       "      <td>3.351204</td>\n",
       "      <td>435.768177</td>\n",
       "      <td>23.34</td>\n",
       "      <td>27.872111</td>\n",
       "      <td>26.415802</td>\n",
       "    </tr>\n",
       "    <tr>\n",
       "      <th>50</th>\n",
       "      <td>22.317617</td>\n",
       "      <td>3.592842</td>\n",
       "      <td>475.768177</td>\n",
       "      <td>23.34</td>\n",
       "      <td>67.872111</td>\n",
       "      <td>32.810301</td>\n",
       "    </tr>\n",
       "    <tr>\n",
       "      <th>86</th>\n",
       "      <td>21.429932</td>\n",
       "      <td>3.735128</td>\n",
       "      <td>511.768177</td>\n",
       "      <td>23.34</td>\n",
       "      <td>103.872111</td>\n",
       "      <td>38.158576</td>\n",
       "    </tr>\n",
       "  </tbody>\n",
       "</table>\n",
       "</div>"
      ],
      "text/plain": [
       "                                elec_wap    h2_wap      demand  ac_demand  \\\n",
       "year scenario export_quantity                                               \n",
       "2030 BS       0                23.772112  1.809210  443.907824      23.38   \n",
       "              1                23.750448  5.911561  444.907824      23.38   \n",
       "              10               23.020276  6.426968  453.907824      23.38   \n",
       "              50               21.843713  6.699407  493.907824      23.38   \n",
       "              86               21.220357  6.950833  529.907824      23.38   \n",
       "     AP       0                23.986942  1.557094  460.247599      23.38   \n",
       "              1                23.972868  3.448294  461.247599      23.38   \n",
       "              10               23.326652  3.698723  470.247599      23.38   \n",
       "              50               21.877245  3.938920  510.247599      23.38   \n",
       "              86               21.356334  4.110959  546.247599      23.38   \n",
       "     NZ       0                24.112679  1.502287  425.768177      23.34   \n",
       "              1                24.112679  3.177911  426.768177      23.34   \n",
       "              10               24.025842  3.351204  435.768177      23.34   \n",
       "              50               22.317617  3.592842  475.768177      23.34   \n",
       "              86               21.429932  3.735128  511.768177      23.34   \n",
       "\n",
       "                                h2_demand  costs-demand-ratio  \n",
       "year scenario export_quantity                                  \n",
       "2030 BS       0                  9.160489           25.076627  \n",
       "              1                 10.160489           25.400428  \n",
       "              10                19.160489           28.573536  \n",
       "              50                59.160489           41.714421  \n",
       "              86                95.160489           52.648438  \n",
       "     AP       0                  9.158764           25.347741  \n",
       "              1                 10.158764           25.507058  \n",
       "              10                19.158764           27.058240  \n",
       "              50                59.158764           33.688404  \n",
       "              86                95.158764           39.396710  \n",
       "     NZ       0                 17.872111           24.748642  \n",
       "              1                 18.872111           24.904990  \n",
       "              10                27.872111           26.415802  \n",
       "              50                67.872111           32.810301  \n",
       "              86               103.872111           38.158576  "
      ]
     },
     "execution_count": 6,
     "metadata": {},
     "output_type": "execute_result"
    }
   ],
   "source": [
    "summary_mp = summary.filter(regex='wap|cost-demand|demand')\n",
    "summary_mp"
   ]
  },
  {
   "cell_type": "markdown",
   "metadata": {},
   "source": [
    "# Plot market prices"
   ]
  },
  {
   "cell_type": "code",
   "execution_count": 7,
   "metadata": {},
   "outputs": [
    {
     "data": {
      "image/png": "[encoded data removed]",
      "text/plain": [
       "<Figure size 1200x400 with 1 Axes>"
      ]
     },
     "metadata": {},
     "output_type": "display_data"
    }
   ],
   "source": [
    "ana.plot_mps(summary_mp)"
   ]
  }
 ],
 "metadata": {
  "kernelspec": {
   "display_name": "Python 3.10.9",
   "language": "python",
   "name": "python3"
  },
  "language_info": {
   "codemirror_mode": {
    "name": "ipython",
    "version": 3
   },
   "file_extension": ".py",
   "mimetype": "text/x-python",
   "name": "python",
   "nbconvert_exporter": "python",
   "pygments_lexer": "ipython3",
   "version": "3.10.9"
  },
  "orig_nbformat": 4,
  "vscode": {
   "interpreter": {
    "hash": "19c49e5d339305ac46393083a04e3e56accfeb5371f97254934c94c3a66238ad"
   }
  }
 },
 "nbformat": 4,
 "nbformat_minor": 2
}
